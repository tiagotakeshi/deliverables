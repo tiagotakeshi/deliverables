{
 "cells": [
  {
   "cell_type": "code",
   "execution_count": 1,
   "metadata": {},
   "outputs": [],
   "source": [
    "# libraries\n",
    "from selenium import webdriver\n",
    "from time import sleep\n",
    "import pandas as pd\n",
    "from selenium.webdriver.common.action_chains import ActionChains\n",
    "from datetime import datetime"
   ]
  },
  {
   "cell_type": "code",
   "execution_count": 2,
   "metadata": {},
   "outputs": [],
   "source": [
    "# links \n",
    "url = 'https://www.vivareal.com.br/aluguel/sp/sao-jose-dos-campos/apartamento_residencial/'"
   ]
  },
  {
   "cell_type": "code",
   "execution_count": 3,
   "metadata": {},
   "outputs": [],
   "source": [
    "driver = webdriver.Chrome()\n",
    "driver.get(url)\n",
    "sleep(4)\n",
    "actions = ActionChains(driver)"
   ]
  },
  {
   "cell_type": "code",
   "execution_count": 4,
   "metadata": {},
   "outputs": [],
   "source": [
    "listas = []\n",
    "url_check = ['']"
   ]
  },
  {
   "cell_type": "code",
   "execution_count": 5,
   "metadata": {},
   "outputs": [],
   "source": [
    "try:\n",
    "    driver.find_element_by_class_name(\"cookie-notifier__cta\").click()\n",
    "except:\n",
    "    print(\"No cookies!\")\n",
    "\n",
    "while True:\n",
    "    try:\n",
    "        driver.find_element_by_class_name(\"cookie-notifier__cta\").click()\n",
    "    except:\n",
    "        pass\n",
    "    sleep(10)\n",
    "    result = driver.find_element_by_xpath('//*[@id=\"js-site-main\"]/div[2]/div[1]/section/div[2]')\n",
    "    list_apto = result.find_elements_by_class_name(\"js-property-card\")\n",
    "    for i,apto in enumerate(list_apto):\n",
    "        link = apto.find_element_by_class_name(\"js-card-title\").get_attribute('href')\n",
    "        if link not in url_check:\n",
    "            id_apto = link.split(\"id-\")[-1][:-1]\n",
    "            adress = apto.find_element_by_class_name(\"property-card__address\").text\n",
    "            area = apto.find_element_by_class_name(\"js-property-card-detail-area\").text\n",
    "            bedrooms = apto.find_element_by_class_name(\"js-property-detail-rooms\").text\n",
    "            bathrooms = apto.find_element_by_class_name(\"js-property-detail-bathroom\").text\n",
    "            garage = apto.find_element_by_class_name(\"js-property-detail-garages\").text\n",
    "            price = apto.find_element_by_class_name(\"js-property-card-prices\").text\n",
    "            try:\n",
    "                others = apto.find_element_by_class_name(\"property-card__amenities\").text\n",
    "            except:\n",
    "                others = None\n",
    "            try:\n",
    "                cond = apto.find_element_by_class_name(\"js-condo-price\").text\n",
    "            except:\n",
    "                cond = None\n",
    "            listas.append({\"id\": id_apto,\n",
    "                           \"link\": link,\n",
    "                           \"address\": adress,\n",
    "                           \"area\": area,\n",
    "                           \"bedrooms\": bedrooms,\n",
    "                           \"bathrooms\": bathrooms,\n",
    "                           \"garages\": garage,\n",
    "                           \"others\": others,\n",
    "                           \"price\": price,\n",
    "                           \"condo\": cond,\n",
    "                           \"date\": datetime.now().strftime(\"%Y-%m-%d %H:%M\")})\n",
    "            url_check.append(link)\n",
    "        else:\n",
    "            pass\n",
    "    paginator = driver.find_element_by_class_name(\"js-results-pagination\")\n",
    "    next_page = paginator.find_element_by_xpath(\"//a[@title='Próxima página']\")\n",
    "    try:\n",
    "        next_page.click()\n",
    "    except:\n",
    "        break\n",
    "\n",
    "df = pd.DataFrame(listas).to_csv(\"apto_results.csv\", index=False)\n",
    "driver.close()"
   ]
  },
  {
   "cell_type": "code",
   "execution_count": null,
   "metadata": {},
   "outputs": [],
   "source": []
  }
 ],
 "metadata": {
  "kernelspec": {
   "display_name": "Python 3",
   "language": "python",
   "name": "python3"
  },
  "language_info": {
   "codemirror_mode": {
    "name": "ipython",
    "version": 3
   },
   "file_extension": ".py",
   "mimetype": "text/x-python",
   "name": "python",
   "nbconvert_exporter": "python",
   "pygments_lexer": "ipython3",
   "version": "3.8.5"
  }
 },
 "nbformat": 4,
 "nbformat_minor": 4
}
