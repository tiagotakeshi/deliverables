{
 "cells": [
  {
   "cell_type": "code",
   "execution_count": 13,
   "metadata": {},
   "outputs": [],
   "source": [
    "# libraries\n",
    "from selenium import webdriver\n",
    "from time import sleep\n",
    "import pandas as pd"
   ]
  },
  {
   "cell_type": "code",
   "execution_count": 14,
   "metadata": {},
   "outputs": [],
   "source": [
    "# links and xpaths\n",
    "url = 'https://www.vivareal.com.br/aluguel/sp/sao-jose-dos-campos/apartamento_residencial/'\n",
    "\n",
    "adress = '//*[@id=\"2515357153\"]/div/article/a/div/h2/span[2]/span[1]'\n",
    "area = '//*[@id=\"2515357153\"]/div/article/a/div/ul[1]/li[1]/span[1]'\n",
    "bedroom = '//*[@id=\"2515357153\"]/div/article/a/div/ul[1]/li[2]/span[1]'\n",
    "bathroom = '//*[@id=\"2515357153\"]/div/article/a/div/ul[1]/li[3]/span[1]'\n",
    "garage = '//*[@id=\"2515357153\"]/div/article/a/div/ul[1]/li[4]/span[1]'\n",
    "others = '//*[@id=\"2515357153\"]/div/article/a/div/ul[2]'\n",
    "price = '//*[@id=\"2515357153\"]/div/article/a/div/section/div'\n",
    "cond = '//*[@id=\"2515357153\"]/div/article/a/div/section/footer/div'\n",
    "link = '//*[@id=\"2515357153\"]/div/article/div[1]/div/div/a'"
   ]
  },
  {
   "cell_type": "code",
   "execution_count": 15,
   "metadata": {},
   "outputs": [],
   "source": [
    "driver = webdriver.Chrome()"
   ]
  },
  {
   "cell_type": "code",
   "execution_count": 2,
   "metadata": {},
   "outputs": [
    {
     "data": {
      "text/plain": [
       "0"
      ]
     },
     "execution_count": 2,
     "metadata": {},
     "output_type": "execute_result"
    }
   ],
   "source": [
    "lista = {}\n",
    "len(lista)"
   ]
  },
  {
   "cell_type": "code",
   "execution_count": null,
   "metadata": {},
   "outputs": [],
   "source": [
    "while len(lista) < 100:\n",
    "    driver.get(url)\n",
    "    sleep(10)\n",
    "    list_apto = driver.find_elements_by_class_name('results-list')\n",
    "    for apto in list_apto:\n",
    "        verify = driver.find_element_by_xpath(link).get_attribute('href')\n",
    "        apto for i in lista['Links'] if verify != i:\n",
    "            if"
   ]
  },
  {
   "cell_type": "code",
   "execution_count": 16,
   "metadata": {},
   "outputs": [],
   "source": [
    "driver.get(url)"
   ]
  },
  {
   "cell_type": "code",
   "execution_count": 55,
   "metadata": {},
   "outputs": [
    {
     "name": "stdout",
     "output_type": "stream",
     "text": [
      "https://www.vivareal.com.br/imovel/apartamento-2-quartos-jardim-esplanada-bairros-sao-jose-dos-campos-com-garagem-55m2-aluguel-RS1990-id-2515357153/\n"
     ]
    }
   ],
   "source": [
    "list_apto = driver.find_elements_by_class_name('results-list')\n",
    "for apto in list_apto:\n",
    "    link = driver.find_element_by_xpath(link).get_attribute('href')\n",
    "    if link not in lista['Link']:\n",
    "        \n",
    "        \n",
    "    else:\n",
    "        pass"
   ]
  },
  {
   "cell_type": "code",
   "execution_count": 3,
   "metadata": {},
   "outputs": [],
   "source": [
    "teste = 9\n",
    "cont = 0\n",
    "lista['num'] = [0,1,2,3,4,5,6,7,8,9,10]\n",
    "lista['letra'] = ['a','b','c']"
   ]
  },
  {
   "cell_type": "code",
   "execution_count": 90,
   "metadata": {},
   "outputs": [
    {
     "name": "stdout",
     "output_type": "stream",
     "text": [
      "1\n"
     ]
    }
   ],
   "source": [
    "if teste not in lista['num']:\n",
    "    print('funciona')\n",
    "else:\n",
    "    cont += 1\n",
    "\n",
    "print(cont)"
   ]
  },
  {
   "cell_type": "code",
   "execution_count": null,
   "metadata": {},
   "outputs": [],
   "source": []
  }
 ],
 "metadata": {
  "kernelspec": {
   "display_name": "Python 3",
   "language": "python",
   "name": "python3"
  },
  "language_info": {
   "codemirror_mode": {
    "name": "ipython",
    "version": 3
   },
   "file_extension": ".py",
   "mimetype": "text/x-python",
   "name": "python",
   "nbconvert_exporter": "python",
   "pygments_lexer": "ipython3",
   "version": "3.8.5"
  }
 },
 "nbformat": 4,
 "nbformat_minor": 4
}
