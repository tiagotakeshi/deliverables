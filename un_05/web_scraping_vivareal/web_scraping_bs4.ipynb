{
 "cells": [
  {
   "cell_type": "code",
   "execution_count": 217,
   "metadata": {},
   "outputs": [],
   "source": [
    "from bs4 import BeautifulSoup\n",
    "import requests\n",
    "import pandas as pd"
   ]
  },
  {
   "cell_type": "code",
   "execution_count": 218,
   "metadata": {},
   "outputs": [],
   "source": [
    "paginas = ['']"
   ]
  },
  {
   "cell_type": "code",
   "execution_count": 219,
   "metadata": {},
   "outputs": [],
   "source": [
    "for i in range (1, 400):\n",
    "    a = str(i)\n",
    "    paginas.append(a)"
   ]
  },
  {
   "cell_type": "code",
   "execution_count": 220,
   "metadata": {},
   "outputs": [],
   "source": [
    "propriedades = []\n",
    "\n",
    "for pg in paginas:\n",
    "    url = 'https://www.vivareal.com.br/aluguel/sp/sao-jose-dos-campos/apartamento_residencial/#pagina={}'.format(pg)\n",
    "    p = requests.get(url).content\n",
    "    soup = BeautifulSoup(p)\n",
    "    \n",
    "    cards = soup.findAll(\"article\", {\"class\":\"js-property-card\"})\n",
    "    for card in cards:\n",
    "        propriedade = {}\n",
    "        propriedade[\"endereço\"] = card.find(\"span\", {\"class\": \"property-card__address\"}).text\n",
    "        propriedade[\"área\"] = card.find(\"li\", {\"class\":\"property-card__detail-area\"}).text\n",
    "        propriedade[\"quartos\"] = card.find(\"li\", {\"class\": \"property-card__detail-room\"}).text\n",
    "        propriedade[\"banheiros\"] = card.find(\"li\", {\"class\":\"property-card__detail-bathroom\"}).text\n",
    "        propriedade[\"vagas\"] = card.find(\"li\",{\"class\":\"property-card__detail-garage\"}).text\n",
    "        propriedade[\"preço\"] = card.find(\"div\",{\"class\":\"property-card__price\"}).text\n",
    "        propriedade[\"link\"] = \"https://www.vivareal.com.br\"+card.find(\"div\",attrs={\"class\":\"property-card__carousel\"}).a[\"href\"]\n",
    "        try:\n",
    "            propriedade[\"condomínio\"] = card.find(\"div\",{\"class\":\"property-card__price-details--condo\"}).text\n",
    "        except:\n",
    "            propriedade[\"condomínio\"] = None\n",
    "        try:\n",
    "            propriedade[\"outros\"] = card.find(\"ul\",{\"class\":\"property-card__amenities\"}).text\n",
    "        except:\n",
    "            propriedade[\"outros\"] = None\n",
    "        \n",
    "        propriedades.append(propriedade)"
   ]
  },
  {
   "cell_type": "code",
   "execution_count": 221,
   "metadata": {},
   "outputs": [],
   "source": [
    "df = pd.DataFrame(propriedades)"
   ]
  },
  {
   "cell_type": "code",
   "execution_count": 222,
   "metadata": {},
   "outputs": [
    {
     "data": {
      "text/html": [
       "<div>\n",
       "<style scoped>\n",
       "    .dataframe tbody tr th:only-of-type {\n",
       "        vertical-align: middle;\n",
       "    }\n",
       "\n",
       "    .dataframe tbody tr th {\n",
       "        vertical-align: top;\n",
       "    }\n",
       "\n",
       "    .dataframe thead th {\n",
       "        text-align: right;\n",
       "    }\n",
       "</style>\n",
       "<table border=\"1\" class=\"dataframe\">\n",
       "  <thead>\n",
       "    <tr style=\"text-align: right;\">\n",
       "      <th></th>\n",
       "      <th>endereço</th>\n",
       "      <th>área</th>\n",
       "      <th>quartos</th>\n",
       "      <th>banheiros</th>\n",
       "      <th>vagas</th>\n",
       "      <th>preço</th>\n",
       "      <th>link</th>\n",
       "      <th>condomínio</th>\n",
       "      <th>outros</th>\n",
       "    </tr>\n",
       "  </thead>\n",
       "  <tbody>\n",
       "    <tr>\n",
       "      <th>0</th>\n",
       "      <td>Rua Professor Roberval Froes, 490 - Jardim Esp...</td>\n",
       "      <td>55   m²</td>\n",
       "      <td>2   Quartos</td>\n",
       "      <td>1   Banheiro</td>\n",
       "      <td>2   Vagas</td>\n",
       "      <td>R$ 1.990 /Mês</td>\n",
       "      <td>https://www.vivareal.com.br/imovel/apartamento...</td>\n",
       "      <td>Condomínio:   R$ 350</td>\n",
       "      <td>Mobiliado Elevador Salão de festas Academia C...</td>\n",
       "    </tr>\n",
       "    <tr>\n",
       "      <th>1</th>\n",
       "      <td>Estrada Municipal Martins Guimarães, 1201 - Vi...</td>\n",
       "      <td>47   m²</td>\n",
       "      <td>2   Quartos</td>\n",
       "      <td>1   Banheiro</td>\n",
       "      <td>1   Vaga</td>\n",
       "      <td>R$ 850 /Mês</td>\n",
       "      <td>https://www.vivareal.com.br/imovel/apartamento...</td>\n",
       "      <td>Condomínio:   R$ 250</td>\n",
       "      <td>Área de serviço Churrasqueira Salão de festas...</td>\n",
       "    </tr>\n",
       "    <tr>\n",
       "      <th>2</th>\n",
       "      <td>Avenida Engenheiro Francisco José Longo, 633 -...</td>\n",
       "      <td>120   m²</td>\n",
       "      <td>3   Quartos</td>\n",
       "      <td>4   Banheiros</td>\n",
       "      <td>1   Vaga</td>\n",
       "      <td>R$ 2.400 /Mês</td>\n",
       "      <td>https://www.vivareal.com.br/imovel/apartamento...</td>\n",
       "      <td>Condomínio:   R$ 602</td>\n",
       "      <td>Mobiliado Elevador Área de serviço Salão de f...</td>\n",
       "    </tr>\n",
       "    <tr>\n",
       "      <th>3</th>\n",
       "      <td>Avenida São João, 349 - Jardim Esplanada, São ...</td>\n",
       "      <td>125   m²</td>\n",
       "      <td>3   Quartos</td>\n",
       "      <td>4   Banheiros</td>\n",
       "      <td>3   Vagas</td>\n",
       "      <td>R$ 4.250 /Mês</td>\n",
       "      <td>https://www.vivareal.com.br/imovel/apartamento...</td>\n",
       "      <td>None</td>\n",
       "      <td>None</td>\n",
       "    </tr>\n",
       "    <tr>\n",
       "      <th>4</th>\n",
       "      <td>Rua José Mattar, 174 - Jardim São Dimas, São J...</td>\n",
       "      <td>90   m²</td>\n",
       "      <td>3   Quartos</td>\n",
       "      <td>2   Banheiros</td>\n",
       "      <td>1   Vaga</td>\n",
       "      <td>R$ 1.300 /Mês</td>\n",
       "      <td>https://www.vivareal.com.br/imovel/apartamento...</td>\n",
       "      <td>Condomínio:   R$ 570</td>\n",
       "      <td>Quadra poliesportiva</td>\n",
       "    </tr>\n",
       "  </tbody>\n",
       "</table>\n",
       "</div>"
      ],
      "text/plain": [
       "                                            endereço          área  \\\n",
       "0  Rua Professor Roberval Froes, 490 - Jardim Esp...     55   m²     \n",
       "1  Estrada Municipal Martins Guimarães, 1201 - Vi...     47   m²     \n",
       "2  Avenida Engenheiro Francisco José Longo, 633 -...    120   m²     \n",
       "3  Avenida São João, 349 - Jardim Esplanada, São ...    125   m²     \n",
       "4  Rua José Mattar, 174 - Jardim São Dimas, São J...     90   m²     \n",
       "\n",
       "           quartos          banheiros          vagas               preço  \\\n",
       "0    2   Quartos       1   Banheiro      2   Vagas       R$ 1.990 /Mês     \n",
       "1    2   Quartos       1   Banheiro       1   Vaga         R$ 850 /Mês     \n",
       "2    3   Quartos      4   Banheiros       1   Vaga       R$ 2.400 /Mês     \n",
       "3    3   Quartos      4   Banheiros      3   Vagas       R$ 4.250 /Mês     \n",
       "4    3   Quartos      2   Banheiros       1   Vaga       R$ 1.300 /Mês     \n",
       "\n",
       "                                                link  \\\n",
       "0  https://www.vivareal.com.br/imovel/apartamento...   \n",
       "1  https://www.vivareal.com.br/imovel/apartamento...   \n",
       "2  https://www.vivareal.com.br/imovel/apartamento...   \n",
       "3  https://www.vivareal.com.br/imovel/apartamento...   \n",
       "4  https://www.vivareal.com.br/imovel/apartamento...   \n",
       "\n",
       "                 condomínio                                             outros  \n",
       "0   Condomínio:   R$ 350      Mobiliado Elevador Salão de festas Academia C...  \n",
       "1   Condomínio:   R$ 250      Área de serviço Churrasqueira Salão de festas...  \n",
       "2   Condomínio:   R$ 602      Mobiliado Elevador Área de serviço Salão de f...  \n",
       "3                      None                                               None  \n",
       "4   Condomínio:   R$ 570                                 Quadra poliesportiva   "
      ]
     },
     "execution_count": 222,
     "metadata": {},
     "output_type": "execute_result"
    }
   ],
   "source": [
    "df.head()"
   ]
  },
  {
   "cell_type": "code",
   "execution_count": 223,
   "metadata": {},
   "outputs": [],
   "source": [
    "df['bairro']=df['endereço'].str.split('\\s-').str[1]"
   ]
  },
  {
   "cell_type": "code",
   "execution_count": 224,
   "metadata": {},
   "outputs": [],
   "source": [
    "df['bairro'] = df['bairro'].str.split(',').str[0]"
   ]
  },
  {
   "cell_type": "code",
   "execution_count": 225,
   "metadata": {},
   "outputs": [],
   "source": [
    "df['rua'] = df['endereço'].str.split(\"\\s-\").str[0]"
   ]
  },
  {
   "cell_type": "code",
   "execution_count": 226,
   "metadata": {},
   "outputs": [],
   "source": [
    "df['área'] = df['área'].str.split('\\sm²').str[0]"
   ]
  },
  {
   "cell_type": "code",
   "execution_count": 227,
   "metadata": {},
   "outputs": [],
   "source": [
    "df['quartos'] = df['quartos'].str.split('\\sQuarto').str[0]"
   ]
  },
  {
   "cell_type": "code",
   "execution_count": 228,
   "metadata": {},
   "outputs": [],
   "source": [
    "df['banheiros'] = df['banheiros'].str.split('\\sBanheiro').str[0]"
   ]
  },
  {
   "cell_type": "code",
   "execution_count": 229,
   "metadata": {},
   "outputs": [],
   "source": [
    "df['vagas'] = df['vagas'].str.split('\\sVaga').str[0]"
   ]
  },
  {
   "cell_type": "code",
   "execution_count": 230,
   "metadata": {},
   "outputs": [],
   "source": [
    "df['preço'] = df['preço'].str.split().str[1]"
   ]
  },
  {
   "cell_type": "code",
   "execution_count": 231,
   "metadata": {},
   "outputs": [],
   "source": [
    "df['condomínio'] = df['condomínio'].str.split().str[2]"
   ]
  },
  {
   "cell_type": "code",
   "execution_count": 232,
   "metadata": {},
   "outputs": [],
   "source": [
    "df.drop('endereço', inplace=True, axis=1)"
   ]
  },
  {
   "cell_type": "code",
   "execution_count": 233,
   "metadata": {},
   "outputs": [],
   "source": [
    "df = df.rename(columns={'área': 'Área (m²)', 'quartos': 'Quartos', 'banheiros':'Banheiros','vagas':'Vagas','preço':'Preço (R$)', 'link':'Link', 'condomínio':'Condomínio (R$)', 'outros':'Outros','bairro':'Bairro','rua':'Rua'})"
   ]
  },
  {
   "cell_type": "code",
   "execution_count": 234,
   "metadata": {},
   "outputs": [
    {
     "data": {
      "text/html": [
       "<div>\n",
       "<style scoped>\n",
       "    .dataframe tbody tr th:only-of-type {\n",
       "        vertical-align: middle;\n",
       "    }\n",
       "\n",
       "    .dataframe tbody tr th {\n",
       "        vertical-align: top;\n",
       "    }\n",
       "\n",
       "    .dataframe thead th {\n",
       "        text-align: right;\n",
       "    }\n",
       "</style>\n",
       "<table border=\"1\" class=\"dataframe\">\n",
       "  <thead>\n",
       "    <tr style=\"text-align: right;\">\n",
       "      <th></th>\n",
       "      <th>Área (m²)</th>\n",
       "      <th>Quartos</th>\n",
       "      <th>Banheiros</th>\n",
       "      <th>Vagas</th>\n",
       "      <th>Preço (R$)</th>\n",
       "      <th>Link</th>\n",
       "      <th>Condomínio (R$)</th>\n",
       "      <th>Outros</th>\n",
       "      <th>Bairro</th>\n",
       "      <th>Rua</th>\n",
       "    </tr>\n",
       "  </thead>\n",
       "  <tbody>\n",
       "    <tr>\n",
       "      <th>count</th>\n",
       "      <td>14400</td>\n",
       "      <td>14400</td>\n",
       "      <td>14400</td>\n",
       "      <td>14400</td>\n",
       "      <td>14400</td>\n",
       "      <td>14400</td>\n",
       "      <td>14000</td>\n",
       "      <td>10336</td>\n",
       "      <td>14400</td>\n",
       "      <td>14400</td>\n",
       "    </tr>\n",
       "    <tr>\n",
       "      <th>unique</th>\n",
       "      <td>37</td>\n",
       "      <td>4</td>\n",
       "      <td>5</td>\n",
       "      <td>5</td>\n",
       "      <td>31</td>\n",
       "      <td>47</td>\n",
       "      <td>36</td>\n",
       "      <td>30</td>\n",
       "      <td>18</td>\n",
       "      <td>40</td>\n",
       "    </tr>\n",
       "    <tr>\n",
       "      <th>top</th>\n",
       "      <td>75</td>\n",
       "      <td>2</td>\n",
       "      <td>2</td>\n",
       "      <td>1</td>\n",
       "      <td>2.800</td>\n",
       "      <td>https://www.vivareal.com.br/imovel/apartamento...</td>\n",
       "      <td>600</td>\n",
       "      <td>Mobiliado Elevador Piscina Área de serviço Ch...</td>\n",
       "      <td>SP</td>\n",
       "      <td>Rua Doutor Tertuliano Delphim Júnior</td>\n",
       "    </tr>\n",
       "    <tr>\n",
       "      <th>freq</th>\n",
       "      <td>1488</td>\n",
       "      <td>8064</td>\n",
       "      <td>6400</td>\n",
       "      <td>7728</td>\n",
       "      <td>1200</td>\n",
       "      <td>400</td>\n",
       "      <td>912</td>\n",
       "      <td>1088</td>\n",
       "      <td>4928</td>\n",
       "      <td>800</td>\n",
       "    </tr>\n",
       "  </tbody>\n",
       "</table>\n",
       "</div>"
      ],
      "text/plain": [
       "       Área (m²) Quartos Banheiros  Vagas Preço (R$)  \\\n",
       "count      14400   14400     14400  14400      14400   \n",
       "unique        37       4         5      5         31   \n",
       "top         75       2         2      1        2.800   \n",
       "freq        1488    8064      6400   7728       1200   \n",
       "\n",
       "                                                     Link Condomínio (R$)  \\\n",
       "count                                               14400           14000   \n",
       "unique                                                 47              36   \n",
       "top     https://www.vivareal.com.br/imovel/apartamento...             600   \n",
       "freq                                                  400             912   \n",
       "\n",
       "                                                   Outros Bairro  \\\n",
       "count                                               10336  14400   \n",
       "unique                                                 30     18   \n",
       "top      Mobiliado Elevador Piscina Área de serviço Ch...     SP   \n",
       "freq                                                 1088   4928   \n",
       "\n",
       "                                         Rua  \n",
       "count                                  14400  \n",
       "unique                                    40  \n",
       "top     Rua Doutor Tertuliano Delphim Júnior  \n",
       "freq                                     800  "
      ]
     },
     "execution_count": 234,
     "metadata": {},
     "output_type": "execute_result"
    }
   ],
   "source": [
    "df.describe()"
   ]
  },
  {
   "cell_type": "code",
   "execution_count": 235,
   "metadata": {},
   "outputs": [],
   "source": [
    "df = df.drop_duplicates(subset=['Link'])"
   ]
  },
  {
   "cell_type": "code",
   "execution_count": 236,
   "metadata": {},
   "outputs": [
    {
     "data": {
      "text/html": [
       "<div>\n",
       "<style scoped>\n",
       "    .dataframe tbody tr th:only-of-type {\n",
       "        vertical-align: middle;\n",
       "    }\n",
       "\n",
       "    .dataframe tbody tr th {\n",
       "        vertical-align: top;\n",
       "    }\n",
       "\n",
       "    .dataframe thead th {\n",
       "        text-align: right;\n",
       "    }\n",
       "</style>\n",
       "<table border=\"1\" class=\"dataframe\">\n",
       "  <thead>\n",
       "    <tr style=\"text-align: right;\">\n",
       "      <th></th>\n",
       "      <th>Área (m²)</th>\n",
       "      <th>Quartos</th>\n",
       "      <th>Banheiros</th>\n",
       "      <th>Vagas</th>\n",
       "      <th>Preço (R$)</th>\n",
       "      <th>Link</th>\n",
       "      <th>Condomínio (R$)</th>\n",
       "      <th>Outros</th>\n",
       "      <th>Bairro</th>\n",
       "      <th>Rua</th>\n",
       "    </tr>\n",
       "  </thead>\n",
       "  <tbody>\n",
       "    <tr>\n",
       "      <th>count</th>\n",
       "      <td>47</td>\n",
       "      <td>47</td>\n",
       "      <td>47</td>\n",
       "      <td>47</td>\n",
       "      <td>47</td>\n",
       "      <td>47</td>\n",
       "      <td>46</td>\n",
       "      <td>36</td>\n",
       "      <td>47</td>\n",
       "      <td>47</td>\n",
       "    </tr>\n",
       "    <tr>\n",
       "      <th>unique</th>\n",
       "      <td>37</td>\n",
       "      <td>4</td>\n",
       "      <td>5</td>\n",
       "      <td>5</td>\n",
       "      <td>31</td>\n",
       "      <td>47</td>\n",
       "      <td>36</td>\n",
       "      <td>30</td>\n",
       "      <td>18</td>\n",
       "      <td>40</td>\n",
       "    </tr>\n",
       "    <tr>\n",
       "      <th>top</th>\n",
       "      <td>75</td>\n",
       "      <td>2</td>\n",
       "      <td>2</td>\n",
       "      <td>1</td>\n",
       "      <td>1.600</td>\n",
       "      <td>https://www.vivareal.com.br/imovel/apartamento...</td>\n",
       "      <td>400</td>\n",
       "      <td>Mobiliado Elevador Piscina Área de serviço Ch...</td>\n",
       "      <td>SP</td>\n",
       "      <td>Jardim Aquarius, São José dos Campos</td>\n",
       "    </tr>\n",
       "    <tr>\n",
       "      <th>freq</th>\n",
       "      <td>4</td>\n",
       "      <td>25</td>\n",
       "      <td>20</td>\n",
       "      <td>24</td>\n",
       "      <td>3</td>\n",
       "      <td>1</td>\n",
       "      <td>3</td>\n",
       "      <td>4</td>\n",
       "      <td>15</td>\n",
       "      <td>3</td>\n",
       "    </tr>\n",
       "  </tbody>\n",
       "</table>\n",
       "</div>"
      ],
      "text/plain": [
       "       Área (m²) Quartos Banheiros  Vagas Preço (R$)  \\\n",
       "count         47      47        47     47         47   \n",
       "unique        37       4         5      5         31   \n",
       "top         75       2         2      1        1.600   \n",
       "freq           4      25        20     24          3   \n",
       "\n",
       "                                                     Link Condomínio (R$)  \\\n",
       "count                                                  47              46   \n",
       "unique                                                 47              36   \n",
       "top     https://www.vivareal.com.br/imovel/apartamento...             400   \n",
       "freq                                                    1               3   \n",
       "\n",
       "                                                   Outros Bairro  \\\n",
       "count                                                  36     47   \n",
       "unique                                                 30     18   \n",
       "top      Mobiliado Elevador Piscina Área de serviço Ch...     SP   \n",
       "freq                                                    4     15   \n",
       "\n",
       "                                         Rua  \n",
       "count                                     47  \n",
       "unique                                    40  \n",
       "top     Jardim Aquarius, São José dos Campos  \n",
       "freq                                       3  "
      ]
     },
     "execution_count": 236,
     "metadata": {},
     "output_type": "execute_result"
    }
   ],
   "source": [
    "df.describe()"
   ]
  },
  {
   "cell_type": "code",
   "execution_count": null,
   "metadata": {},
   "outputs": [],
   "source": []
  }
 ],
 "metadata": {
  "kernelspec": {
   "display_name": "Python 3",
   "language": "python",
   "name": "python3"
  },
  "language_info": {
   "codemirror_mode": {
    "name": "ipython",
    "version": 3
   },
   "file_extension": ".py",
   "mimetype": "text/x-python",
   "name": "python",
   "nbconvert_exporter": "python",
   "pygments_lexer": "ipython3",
   "version": "3.8.5"
  }
 },
 "nbformat": 4,
 "nbformat_minor": 4
}
