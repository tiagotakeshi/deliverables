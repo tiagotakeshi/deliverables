{
 "cells": [
  {
   "cell_type": "code",
   "execution_count": 4,
   "metadata": {},
   "outputs": [
    {
     "name": "stderr",
     "output_type": "stream",
     "text": [
      "100%|████████████████████████████████████████████████████████████████████████████████████| 2/2 [00:34<00:00, 17.13s/it]\n"
     ]
    }
   ],
   "source": [
    "from selenium import webdriver\n",
    "from selenium.webdriver.common.action_chains import ActionChains\n",
    "from time import sleep\n",
    "import pandas as pd\n",
    "from tqdm import tqdm\n",
    "from datetime import datetime\n",
    "\n",
    "url = 'https://www.vivareal.com.br/aluguel/sp/sao-jose-dos-campos/apartamento_residencial/?pagina=85'\n",
    "\n",
    "driver = webdriver.Chrome()\n",
    "driver.get(url)\n",
    "sleep(4)\n",
    "actions = ActionChains(driver)\n",
    "\n",
    "errors = []\n",
    "results = []\n",
    "\n",
    "try:\n",
    "    driver.find_element_by_class_name(\"cookie-notifier__cta\").click()\n",
    "except:\n",
    "    pass\n",
    "    \n",
    "for i in tqdm(range(2)):\n",
    "        \n",
    "    sleep(5)\n",
    "    main_div = driver.find_element_by_class_name(\"results-main__panel\")\n",
    "    properties = main_div.find_elements_by_class_name(\"js-property-card\")\n",
    "    paginator = driver.find_element_by_class_name(\"js-results-pagination\")\n",
    "    next_page = paginator.find_element_by_xpath(\"//a[@title='Próxima página']\")\n",
    "        \n",
    "    for i,apartment in enumerate(properties):\n",
    "        url = apartment.find_element_by_class_name(\"js-card-title\").get_attribute(\"href\")\n",
    "        apto_id = url.split(\"id-\")[-1][:-1]\n",
    "        header = apartment.find_element_by_class_name(\"property-card__title\").text\n",
    "        address = apartment.find_element_by_class_name(\"property-card__address\").text\n",
    "        area = apartment.find_element_by_class_name(\"js-property-card-detail-area\").text\n",
    "        rooms = apartment.find_element_by_class_name(\"js-property-detail-rooms\").text\n",
    "        bathrooms = apartment.find_element_by_class_name(\"js-property-detail-bathroom\").text\n",
    "        garages = apartment.find_element_by_class_name(\"js-property-detail-garages\").text\n",
    "        try:\n",
    "            amenities = apartment.find_element_by_class_name(\"property-card__amenities\").text\n",
    "        except:\n",
    "            amenities = None\n",
    "                # errors.append(url)\n",
    "        price = apartment.find_element_by_class_name(\"js-property-card-prices\").text\n",
    "        try:\n",
    "            condo = apartment.find_element_by_class_name(\"js-condo-price\").text\n",
    "        except:\n",
    "            condo = None\n",
    "                # errors.append(url)\n",
    "            # crawler = bairro\n",
    "        crawled_at = datetime.now().strftime(\"%Y-%m-%d %H:%M\")\n",
    "        results.append({\"id\": apto_id,\n",
    "                        \"url\": url,\n",
    "                        \"header\": header,\n",
    "                        \"address\": address,\n",
    "                        \"area\": area,\n",
    "                        \"rooms\": rooms,\n",
    "                        \"bathrooms\": bathrooms,\n",
    "                        \"garages\": garages,\n",
    "                        \"amenities\": amenities,\n",
    "                        \"price\": price,\n",
    "                        \"condo\": condo,\n",
    "                            #\"crawler\": crawler,\n",
    "                        \"crawled_at\": crawled_at})\n",
    "    next_page.click()\n",
    "pd.DataFrame(results).to_csv(\"full_results.csv\", index=False)\n",
    "driver.close()"
   ]
  },
  {
   "cell_type": "code",
   "execution_count": null,
   "metadata": {},
   "outputs": [],
   "source": []
  }
 ],
 "metadata": {
  "kernelspec": {
   "display_name": "Python 3",
   "language": "python",
   "name": "python3"
  },
  "language_info": {
   "codemirror_mode": {
    "name": "ipython",
    "version": 3
   },
   "file_extension": ".py",
   "mimetype": "text/x-python",
   "name": "python",
   "nbconvert_exporter": "python",
   "pygments_lexer": "ipython3",
   "version": "3.8.5"
  }
 },
 "nbformat": 4,
 "nbformat_minor": 4
}
