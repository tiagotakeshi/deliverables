{
 "cells": [
  {
   "cell_type": "markdown",
   "metadata": {
    "colab_type": "text",
    "id": "view-in-github"
   },
   "source": [
    "![](https://i.imgur.com/YX6UATs.png)"
   ]
  },
  {
   "cell_type": "markdown",
   "metadata": {
    "colab_type": "text",
    "id": "dOqcKUYZf6JW"
   },
   "source": [
    "### Desafio 4\n",
    "\n",
    "Escreva uma função cuja entrada é uma string e a saída é outra string com as palavras em ordem inversa.\n",
    "\n",
    "Exemplo:\n",
    "\n",
    "inverte_texto(\"Python é legal\") ➞ \"legal é Python\""
   ]
  },
  {
   "cell_type": "code",
   "execution_count": 1,
   "metadata": {},
   "outputs": [
    {
     "name": "stdout",
     "output_type": "stream",
     "text": [
      "Insira o texto que se deseja inverter a ordem das palavras: testando se o programa está funcionando\n"
     ]
    }
   ],
   "source": [
    "# input da string\n",
    "ent = input('Insira o texto que se deseja inverter a ordem das palavras: ')"
   ]
  },
  {
   "cell_type": "code",
   "execution_count": 2,
   "metadata": {},
   "outputs": [],
   "source": [
    "# lista vazia para receber a ordem inversa das palavras\n",
    "inv = []"
   ]
  },
  {
   "cell_type": "code",
   "execution_count": 3,
   "metadata": {},
   "outputs": [],
   "source": [
    "# split da frase em uma lista de strins, em que cada item é uma palavra da string de entrada\n",
    "lista = ent.split()"
   ]
  },
  {
   "cell_type": "code",
   "execution_count": 4,
   "metadata": {},
   "outputs": [],
   "source": [
    "# comando for para adicionar os itens da lista de strings em ordem invertida\n",
    "for i in range(len(lista)):\n",
    "    inv.append(lista[((len(lista)-1)-i)])"
   ]
  },
  {
   "cell_type": "code",
   "execution_count": 5,
   "metadata": {},
   "outputs": [],
   "source": [
    "# comando para juntar todas strings da lista em uma única string\n",
    "inv = ' '.join(inv)"
   ]
  },
  {
   "cell_type": "code",
   "execution_count": 6,
   "metadata": {},
   "outputs": [
    {
     "name": "stdout",
     "output_type": "stream",
     "text": [
      "funcionando está programa o se testando\n"
     ]
    }
   ],
   "source": [
    "print(inv)"
   ]
  }
 ],
 "metadata": {
  "anaconda-cloud": {},
  "colab": {
   "include_colab_link": true,
   "name": "Desafio 4.ipynb",
   "provenance": []
  },
  "kernelspec": {
   "display_name": "Python 3",
   "language": "python",
   "name": "python3"
  },
  "language_info": {
   "codemirror_mode": {
    "name": "ipython",
    "version": 3
   },
   "file_extension": ".py",
   "mimetype": "text/x-python",
   "name": "python",
   "nbconvert_exporter": "python",
   "pygments_lexer": "ipython3",
   "version": "3.8.5"
  }
 },
 "nbformat": 4,
 "nbformat_minor": 1
}
