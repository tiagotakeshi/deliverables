{
 "cells": [
  {
   "cell_type": "markdown",
   "metadata": {
    "colab_type": "text",
    "id": "view-in-github"
   },
   "source": [
    "![](https://i.imgur.com/YX6UATs.png)"
   ]
  },
  {
   "cell_type": "markdown",
   "metadata": {
    "colab_type": "text",
    "id": "a4-FLDRof6Jv"
   },
   "source": [
    "### Desafio 10\n",
    "\n",
    "Dada uma lista, divida-a em 3 partes iguais e reverta a ordem de cada lista.\n",
    "\n",
    "**Exemplo:** \n",
    "\n",
    "Entrada: \\\n",
    "sampleList = [11, 45, 8, 23, 14, 12, 78, 45, 89]\n",
    "\n",
    "Saída: \\\n",
    "Parte 1 [8, 45, 11] \\\n",
    "Parte 2 [12, 14, 23] \\\n",
    "Parte 3 [89, 45, 78] "
   ]
  },
  {
   "cell_type": "code",
   "execution_count": 1,
   "metadata": {},
   "outputs": [],
   "source": [
    "# função para dividir a lista em tamanhos iguais, e depois inverter a ordem dos elementos.\n",
    "def dividir(lista, div):\n",
    "    l1 = lista[0:div]\n",
    "    l2 = lista[div:(2*div)]\n",
    "    l3 = lista[(2*div):]\n",
    "    \n",
    "    l1 = inv(l1)\n",
    "    l2 = inv(l2)\n",
    "    l3 = inv(l3)\n",
    "    return l1, l2, l3"
   ]
  },
  {
   "cell_type": "code",
   "execution_count": 2,
   "metadata": {},
   "outputs": [],
   "source": [
    "# função para inverter a ordem dos elementos da lista de input\n",
    "def inv(l_inv):\n",
    "    inv = []\n",
    "    for i in range(len(l_inv)):\n",
    "        inv.append(l_inv[((len(l_inv)-1)-i)])\n",
    "    return inv"
   ]
  },
  {
   "cell_type": "code",
   "execution_count": 3,
   "metadata": {
    "colab": {},
    "colab_type": "code",
    "id": "pNrXNVqf8Wc1"
   },
   "outputs": [],
   "source": [
    "sampleList = [11, 45, 8, 23, 14, 12, 78, 45, 89]"
   ]
  },
  {
   "cell_type": "code",
   "execution_count": 4,
   "metadata": {},
   "outputs": [],
   "source": [
    "# variável para gravar o tamanho da lista\n",
    "size = len(sampleList)"
   ]
  },
  {
   "cell_type": "code",
   "execution_count": 5,
   "metadata": {},
   "outputs": [],
   "source": [
    "# verifica se a lista possui quantidade de elementos divisível por 3, para que seja possível dividí-la igualmente em três\n",
    "if size%3 == 0:\n",
    "    div = int(size/3)\n",
    "    l1, l2, l3 = dividir(sampleList, div)\n",
    "else:\n",
    "    print('Não é possível dividir a lista igualmente em três partes')"
   ]
  },
  {
   "cell_type": "code",
   "execution_count": 6,
   "metadata": {},
   "outputs": [
    {
     "name": "stdout",
     "output_type": "stream",
     "text": [
      "A divisão da lista informado é:\n",
      "Part 1 [8, 45, 11]\n",
      "Part 2 [12, 14, 23]\n",
      "Part 3 [89, 45, 78]\n"
     ]
    }
   ],
   "source": [
    "print('A divisão da lista informado é:')\n",
    "print('Part 1 {}'.format(l1))\n",
    "print('Part 2 {}'.format(l2))\n",
    "print('Part 3 {}'.format(l3))"
   ]
  }
 ],
 "metadata": {
  "anaconda-cloud": {},
  "colab": {
   "include_colab_link": true,
   "name": "Desafio 10.ipynb",
   "provenance": []
  },
  "kernelspec": {
   "display_name": "Python 3",
   "language": "python",
   "name": "python3"
  },
  "language_info": {
   "codemirror_mode": {
    "name": "ipython",
    "version": 3
   },
   "file_extension": ".py",
   "mimetype": "text/x-python",
   "name": "python",
   "nbconvert_exporter": "python",
   "pygments_lexer": "ipython3",
   "version": "3.8.5"
  }
 },
 "nbformat": 4,
 "nbformat_minor": 1
}
