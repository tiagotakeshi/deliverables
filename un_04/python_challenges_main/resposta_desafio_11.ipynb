{
 "cells": [
  {
   "cell_type": "markdown",
   "metadata": {
    "colab_type": "text",
    "id": "view-in-github"
   },
   "source": [
    "![](https://i.imgur.com/YX6UATs.png)"
   ]
  },
  {
   "cell_type": "markdown",
   "metadata": {
    "colab_type": "text",
    "id": "y1R0m4oWf6Jz"
   },
   "source": [
    "### Desafio 8\n",
    "Dados uma sequência com `n` números inteiros, determinar quantos números da sequência são pares e quantos são ímpares.\\\n",
    "Por exemplo, para a sequência\n",
    "\n",
    "`6   2   7  -5   8  -4`\n",
    "\n",
    "a sua função deve retornar o número 4 para o número de pares e 2 para o de ímpares.\\\n",
    "A saída deve ser um **tupla** contendo primeiramente o número de pares e em seguida o número de ímpares.\\\n",
    "Para o exemplo anterior, a saída seria `(4, 2)`."
   ]
  },
  {
   "cell_type": "code",
   "execution_count": 1,
   "metadata": {
    "colab": {},
    "colab_type": "code",
    "id": "pSIzX4zUf6Jz"
   },
   "outputs": [],
   "source": [
    "# função que verifica quais elementos são pares e quais são impares e armazena a quantidade de cada na tupla resp\n",
    "def contar_pares_impares(entrada):\n",
    "    par = 0\n",
    "    impar = 0\n",
    "    for i in entrada:\n",
    "        if i%2 == 0:\n",
    "            par += 1\n",
    "        else:\n",
    "            impar += 1\n",
    "    resp = (par, impar)\n",
    "    return resp"
   ]
  },
  {
   "cell_type": "code",
   "execution_count": 2,
   "metadata": {
    "colab": {},
    "colab_type": "code",
    "id": "OQG6erslSjri"
   },
   "outputs": [],
   "source": [
    "entrada = [6, 2, 7, -5, 8, -4]"
   ]
  },
  {
   "cell_type": "code",
   "execution_count": 3,
   "metadata": {},
   "outputs": [
    {
     "name": "stdout",
     "output_type": "stream",
     "text": [
      "A quantidade de pares e impares, respectivamente, da sequência é: (4, 2)\n"
     ]
    }
   ],
   "source": [
    "print('A quantidade de pares e impares, respectivamente, da sequência é: {}'.format(contar_pares_impares(entrada)))"
   ]
  },
  {
   "cell_type": "code",
   "execution_count": null,
   "metadata": {},
   "outputs": [],
   "source": []
  }
 ],
 "metadata": {
  "anaconda-cloud": {},
  "colab": {
   "include_colab_link": true,
   "name": "Desafio 11.ipynb",
   "provenance": []
  },
  "kernelspec": {
   "display_name": "Python 3",
   "language": "python",
   "name": "python3"
  },
  "language_info": {
   "codemirror_mode": {
    "name": "ipython",
    "version": 3
   },
   "file_extension": ".py",
   "mimetype": "text/x-python",
   "name": "python",
   "nbconvert_exporter": "python",
   "pygments_lexer": "ipython3",
   "version": "3.8.5"
  }
 },
 "nbformat": 4,
 "nbformat_minor": 1
}
