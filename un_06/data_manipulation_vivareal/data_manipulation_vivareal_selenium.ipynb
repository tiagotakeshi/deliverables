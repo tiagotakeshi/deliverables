{
 "cells": [
  {
   "cell_type": "code",
   "execution_count": 142,
   "metadata": {},
   "outputs": [],
   "source": [
    "# libraries\n",
    "from selenium import webdriver\n",
    "from time import sleep\n",
    "import pandas as pd\n",
    "from selenium.webdriver.common.action_chains import ActionChains\n",
    "from datetime import datetime"
   ]
  },
  {
   "cell_type": "code",
   "execution_count": 2,
   "metadata": {},
   "outputs": [],
   "source": [
    "# links \n",
    "url = 'https://www.vivareal.com.br/aluguel/sp/sao-jose-dos-campos/apartamento_residencial/'"
   ]
  },
  {
   "cell_type": "code",
   "execution_count": 3,
   "metadata": {},
   "outputs": [],
   "source": [
    "# abre o navegar  e entra na url de busca\n",
    "driver = webdriver.Chrome()\n",
    "driver.get(url)\n",
    "sleep(4)\n",
    "actions = ActionChains(driver)"
   ]
  },
  {
   "cell_type": "code",
   "execution_count": 4,
   "metadata": {},
   "outputs": [],
   "source": [
    "# listas vazias dos resultados e para verificar se a url é repetida\n",
    "listas = []\n",
    "url_check = ['']\n",
    "url_repeated = ['']"
   ]
  },
  {
   "cell_type": "code",
   "execution_count": 5,
   "metadata": {},
   "outputs": [],
   "source": [
    "while True:\n",
    "    # caso apareça o botão de cookies ele tentar clickar para aceitar.\n",
    "    try:\n",
    "        driver.find_element_by_class_name(\"cookie-notifier__cta\").click()\n",
    "    except:\n",
    "        pass\n",
    "    \n",
    "    # aguarda 5 segundos para a página carregar\n",
    "    sleep(5)\n",
    "    \n",
    "    # armazena a lista de resultados da busca\n",
    "    result = driver.find_element_by_class_name(\"js-list\")\n",
    "    \n",
    "    # lista das propriedades de cada cartão da lista de resultados\n",
    "    list_apto = result.find_elements_by_class_name(\"js-property-card\")\n",
    "    \n",
    "    # laço for para obter os dados de cada cartão de imóvel da lista\n",
    "    for i,apto in enumerate(list_apto):\n",
    "        \n",
    "        # obtém o link URL do cartão que atual\n",
    "        link = apto.find_element_by_class_name(\"js-card-title\").get_attribute('href')\n",
    "        \n",
    "        # verificar se o link já foi utilizado na lista de urls armazenadas\n",
    "        if link not in url_check:\n",
    "            \n",
    "            # comandas para obter as informações desejadas\n",
    "            id_apto = link.split(\"id-\")[-1][:-1]\n",
    "            adress = apto.find_element_by_class_name(\"property-card__address\").text\n",
    "            area = apto.find_element_by_class_name(\"js-property-card-detail-area\").text\n",
    "            bedrooms = apto.find_element_by_class_name(\"js-property-detail-rooms\").text\n",
    "            bathrooms = apto.find_element_by_class_name(\"js-property-detail-bathroom\").text\n",
    "            garage = apto.find_element_by_class_name(\"js-property-detail-garages\").text\n",
    "            price = apto.find_element_by_class_name(\"js-property-card-prices\").text\n",
    "            try:\n",
    "                others = apto.find_element_by_class_name(\"property-card__amenities\").text\n",
    "            except:\n",
    "                others = None\n",
    "            try:\n",
    "                cond = apto.find_element_by_class_name(\"js-condo-price\").text\n",
    "            except:\n",
    "                cond = None\n",
    "                \n",
    "            # armazena os resultados na lista de resultados 'listas' em forma de dicionário.\n",
    "            listas.append({\"id\": id_apto,\n",
    "                           \"link\": link,\n",
    "                           \"address\": adress,\n",
    "                           \"area\": area,\n",
    "                           \"bedrooms\": bedrooms,\n",
    "                           \"bathrooms\": bathrooms,\n",
    "                           \"garages\": garage,\n",
    "                           \"others\": others,\n",
    "                           \"price\": price,\n",
    "                           \"condo\": cond,\n",
    "                           \"date\": datetime.now().strftime(\"%Y-%m-%d %H:%M\")})\n",
    "            url_check.append(link)\n",
    "        else:\n",
    "            url_repeated.append(link)\n",
    "    \n",
    "    # comando para avançar para próxima página\n",
    "    paginator = driver.find_element_by_class_name(\"js-results-pagination\")\n",
    "    next_page = paginator.find_element_by_xpath(\"//a[@title='Próxima página']\")\n",
    "    # tenta clickar no botão próxima página, caso não for possível (última página) o laço while é quebrado com o break.\n",
    "    try:\n",
    "        next_page.click()\n",
    "    except:\n",
    "        break\n",
    "\n",
    "# comando para fechar o navegador\n",
    "driver.close()"
   ]
  },
  {
   "cell_type": "code",
   "execution_count": 423,
   "metadata": {},
   "outputs": [],
   "source": [
    "# converte a lista em um DataFrame\n",
    "df = pd.DataFrame(listas)"
   ]
  },
  {
   "cell_type": "code",
   "execution_count": 1,
   "metadata": {},
   "outputs": [
    {
     "ename": "NameError",
     "evalue": "name 'df' is not defined",
     "output_type": "error",
     "traceback": [
      "\u001b[1;31m---------------------------------------------------------------------------\u001b[0m",
      "\u001b[1;31mNameError\u001b[0m                                 Traceback (most recent call last)",
      "\u001b[1;32m<ipython-input-1-3843e2c119ad>\u001b[0m in \u001b[0;36m<module>\u001b[1;34m\u001b[0m\n\u001b[0;32m      1\u001b[0m \u001b[1;31m# extrai informações de texto\u001b[0m\u001b[1;33m\u001b[0m\u001b[1;33m\u001b[0m\u001b[1;33m\u001b[0m\u001b[0m\n\u001b[1;32m----> 2\u001b[1;33m \u001b[0mdf\u001b[0m\u001b[1;33m[\u001b[0m\u001b[1;34m'bedrooms'\u001b[0m\u001b[1;33m]\u001b[0m \u001b[1;33m=\u001b[0m \u001b[0mdf\u001b[0m\u001b[1;33m[\u001b[0m\u001b[1;34m'bedrooms'\u001b[0m\u001b[1;33m]\u001b[0m\u001b[1;33m.\u001b[0m\u001b[0mstr\u001b[0m\u001b[1;33m.\u001b[0m\u001b[0mextract\u001b[0m\u001b[1;33m(\u001b[0m\u001b[1;34m'(.*) Quarto'\u001b[0m\u001b[1;33m)\u001b[0m\u001b[1;33m\u001b[0m\u001b[1;33m\u001b[0m\u001b[0m\n\u001b[0m",
      "\u001b[1;31mNameError\u001b[0m: name 'df' is not defined"
     ]
    }
   ],
   "source": [
    "# extrai informações de texto\n",
    "df['bedrooms'] = df['bedrooms'].str.extract('(.*) Quarto')\n",
    "\n",
    "df['bathrooms'] = df['bathrooms'].str.extract('(.*) Banheiro')\n",
    "\n",
    "df['garages'] = df['garages'].str.extract('(.*) Vaga')\n",
    "\n",
    "df['price'] = df['price'].str.extract('R\\$ (.*) \\/mês.*')\n",
    "df['price'] = df['price'].replace('\\.','', regex=True)\n",
    "\n",
    "df['condo'] = df['condo'].str.extract('R\\$ (.*).*')\n",
    "df['condo'] = df['condo'].replace('\\.','', regex=True)\n",
    "\n",
    "df['others'] = df['others'].replace('\\n',', ', regex=True)"
   ]
  },
  {
   "cell_type": "code",
   "execution_count": null,
   "metadata": {},
   "outputs": [],
   "source": [
    "# cria coluna de bairro, as colunas que não contiverem , São José dos Campos - SP, serão preenchidas com nan.\n",
    "df['neighborhood'] = df['address'].str.extract('(.*), São José dos Campos - SP')"
   ]
  },
  {
   "cell_type": "code",
   "execution_count": null,
   "metadata": {},
   "outputs": [],
   "source": [
    "# remove as linhas em que a coluna de bairro estiverem com nan.\n",
    "df.drop(index=df[df['neighborhood'].isna()].index.values,inplace=True)\n",
    "df.reset_index(inplace=True)"
   ]
  },
  {
   "cell_type": "code",
   "execution_count": null,
   "metadata": {},
   "outputs": [],
   "source": [
    "# filtra a string do bairro que contém os endereços de ruas/avenidas e pega somente o bairro\n",
    "aux = len(df['neighborhood'])\n",
    "count = 0\n",
    "list_aux = []\n",
    "while count < aux:\n",
    "    if ' - ' in df['neighborhood'][count]:\n",
    "        list_aux.append(df['neighborhood'][count].split(' - ')[-1])\n",
    "    else:\n",
    "        list_aux.append(df['neighborhood'][count])\n",
    "    count+=1\n",
    "df['neighborhood'] = list_aux"
   ]
  },
  {
   "cell_type": "code",
   "execution_count": null,
   "metadata": {},
   "outputs": [],
   "source": [
    "# seleciona colunas que serão transformadas em tipos numéricos\n",
    "cols = ['id','area','bedrooms','bathrooms','garages','price','condo']\n",
    "df[cols] = df[cols].apply(pd.to_numeric, errors='coerce')"
   ]
  },
  {
   "cell_type": "code",
   "execution_count": null,
   "metadata": {},
   "outputs": [],
   "source": [
    "# converte a coluna em datetime\n",
    "df['date'] = pd.to_datetime(df['date'],format='%Y-%m-%d %H:%M')"
   ]
  },
  {
   "cell_type": "code",
   "execution_count": null,
   "metadata": {},
   "outputs": [],
   "source": [
    "# preenche itens na com 0\n",
    "df = df.fillna(0)"
   ]
  },
  {
   "cell_type": "code",
   "execution_count": null,
   "metadata": {},
   "outputs": [],
   "source": [
    "# coloca a coluna id como índice do DataFrame\n",
    "df.set_index('id',inplace=True)"
   ]
  },
  {
   "cell_type": "code",
   "execution_count": null,
   "metadata": {},
   "outputs": [],
   "source": [
    "# elimina a coluna index\n",
    "df.drop(columns = 'index',inplace=True)"
   ]
  },
  {
   "cell_type": "code",
   "execution_count": null,
   "metadata": {},
   "outputs": [],
   "source": [
    "pd.DataFrame(df).to_csv(\"apto_results_final.csv\", index=False,encoding='utf-8-sig')"
   ]
  },
  {
   "cell_type": "code",
   "execution_count": null,
   "metadata": {},
   "outputs": [],
   "source": []
  }
 ],
 "metadata": {
  "kernelspec": {
   "display_name": "Python 3",
   "language": "python",
   "name": "python3"
  },
  "language_info": {
   "codemirror_mode": {
    "name": "ipython",
    "version": 3
   },
   "file_extension": ".py",
   "mimetype": "text/x-python",
   "name": "python",
   "nbconvert_exporter": "python",
   "pygments_lexer": "ipython3",
   "version": "3.8.5"
  }
 },
 "nbformat": 4,
 "nbformat_minor": 4
}
